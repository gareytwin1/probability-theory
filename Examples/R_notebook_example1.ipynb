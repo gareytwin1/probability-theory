{
 "cells": [
  {
   "cell_type": "markdown",
   "id": "da8a8e8f",
   "metadata": {},
   "source": [
    "# Install and Configure R Kernel\n",
    "\n",
    "This section guides you through installing the R kernel for Jupyter Notebook and configuring it for use."
   ]
  },
  {
   "cell_type": "markdown",
   "id": "aae4bc9e",
   "metadata": {},
   "source": [
    "## Step 1: Install IRkernel Package\n",
    "\n",
    "To use R in Jupyter Notebook, you need to install the `IRkernel` package in R. Open your R console or RStudio and run the following commands:"
   ]
  },
  {
   "cell_type": "code",
   "execution_count": null,
   "id": "39e2b2ac",
   "metadata": {
    "vscode": {
     "languageId": "r"
    }
   },
   "outputs": [],
   "source": [
    "# Install IRkernel\n",
    "install.packages(\"IRkernel\")\n",
    "\n",
    "# Register IRkernel with Jupyter\n",
    "IRkernel::installspec()"
   ]
  },
  {
   "cell_type": "markdown",
   "id": "271aab1f",
   "metadata": {},
   "source": [
    "## Step 2: Verify Installation\n",
    "\n",
    "After running the commands above, open Jupyter Notebook and check if the R kernel is available in the kernel selection menu. If it appears, the installation was successful."
   ]
  },
  {
   "cell_type": "markdown",
   "id": "b3015af4",
   "metadata": {},
   "source": [
    "# Verify R Kernel Installation\n",
    "\n",
    "This section ensures that the R kernel is correctly installed and available in Jupyter Notebook."
   ]
  },
  {
   "cell_type": "markdown",
   "id": "41ee72bd",
   "metadata": {},
   "source": [
    "## Step 1: Open Jupyter Notebook\n",
    "\n",
    "Launch Jupyter Notebook from your terminal or Anaconda Navigator. Create a new notebook and check the kernel selection dropdown menu."
   ]
  },
  {
   "cell_type": "markdown",
   "id": "cbe199b9",
   "metadata": {},
   "source": [
    "## Step 2: Select R Kernel\n",
    "\n",
    "If the R kernel appears in the list, select it and run the following command to confirm the kernel is working:"
   ]
  },
  {
   "cell_type": "code",
   "execution_count": null,
   "id": "cb25d7ef",
   "metadata": {
    "vscode": {
     "languageId": "r"
    }
   },
   "outputs": [],
   "source": [
    "# Print a simple message to confirm the R kernel is active\n",
    "print(\"R kernel is successfully installed and active!\")"
   ]
  },
  {
   "cell_type": "markdown",
   "id": "8126b933",
   "metadata": {},
   "source": [
    "# Basic R Operations\n",
    "\n",
    "This section demonstrates basic operations in R, such as creating variables, vectors, and performing arithmetic."
   ]
  },
  {
   "cell_type": "code",
   "execution_count": null,
   "id": "c9285d10",
   "metadata": {
    "vscode": {
     "languageId": "r"
    }
   },
   "outputs": [],
   "source": [
    "# Create variables\n",
    "x <- 10\n",
    "y <- 20\n",
    "\n",
    "# Perform arithmetic operations\n",
    "sum <- x + y\n",
    "product <- x * y\n",
    "\n",
    "# Print results\n",
    "print(paste(\"Sum:\", sum))\n",
    "print(paste(\"Product:\", product))"
   ]
  },
  {
   "cell_type": "code",
   "execution_count": null,
   "id": "ac3b7e4b",
   "metadata": {
    "vscode": {
     "languageId": "r"
    }
   },
   "outputs": [],
   "source": [
    "# Create a vector\n",
    "numbers <- c(1, 2, 3, 4, 5)\n",
    "\n",
    "# Calculate the mean and standard deviation\n",
    "mean_value <- mean(numbers)\n",
    "sd_value <- sd(numbers)\n",
    "\n",
    "# Print results\n",
    "print(paste(\"Mean:\", mean_value))\n",
    "print(paste(\"Standard Deviation:\", sd_value))"
   ]
  },
  {
   "cell_type": "markdown",
   "id": "f90e99d1",
   "metadata": {},
   "source": [
    "# Data Manipulation with dplyr\n",
    "\n",
    "This section demonstrates how to use the `dplyr` package to filter, group, and summarize data."
   ]
  },
  {
   "cell_type": "code",
   "execution_count": null,
   "id": "ae0a78b8",
   "metadata": {
    "vscode": {
     "languageId": "r"
    }
   },
   "outputs": [],
   "source": [
    "# Load dplyr package\n",
    "library(dplyr)\n",
    "\n",
    "# Create a sample data frame\n",
    "data <- data.frame(\n",
    "  Category = c(\"A\", \"B\", \"A\", \"B\", \"C\"),\n",
    "  Value = c(10, 20, 15, 25, 30)\n",
    ")\n",
    "\n",
    "# Filter rows where Value > 15\n",
    "filtered_data <- data %>% filter(Value > 15)\n",
    "\n",
    "# Group by Category and calculate the mean Value\n",
    "grouped_data <- data %>%\n",
    "  group_by(Category) %>%\n",
    "  summarize(MeanValue = mean(Value))\n",
    "\n",
    "# Print results\n",
    "print(\"Filtered Data:\")\n",
    "print(filtered_data)\n",
    "\n",
    "print(\"Grouped Data:\")\n",
    "print(grouped_data)"
   ]
  },
  {
   "cell_type": "markdown",
   "id": "af8cee43",
   "metadata": {},
   "source": [
    "# Data Visualization with ggplot2\n",
    "\n",
    "This section demonstrates how to create visualizations using the `ggplot2` package, such as scatter plots and bar charts."
   ]
  },
  {
   "cell_type": "code",
   "execution_count": null,
   "id": "bd134dac",
   "metadata": {
    "vscode": {
     "languageId": "r"
    }
   },
   "outputs": [],
   "source": [
    "# Load ggplot2 package\n",
    "library(ggplot2)\n",
    "\n",
    "# Create a sample data frame\n",
    "data <- data.frame(\n",
    "  Category = c(\"A\", \"B\", \"C\", \"A\", \"B\", \"C\"),\n",
    "  Value = c(10, 20, 30, 15, 25, 35)\n",
    ")\n",
    "\n",
    "# Create a scatter plot\n",
    "scatter_plot <- ggplot(data, aes(x = Category, y = Value)) +\n",
    "  geom_point(color = \"blue\", size = 3) +\n",
    "  labs(title = \"Scatter Plot\", x = \"Category\", y = \"Value\")\n",
    "\n",
    "# Print scatter plot\n",
    "print(scatter_plot)"
   ]
  },
  {
   "cell_type": "code",
   "execution_count": null,
   "id": "8b0dad3b",
   "metadata": {
    "vscode": {
     "languageId": "r"
    }
   },
   "outputs": [],
   "source": [
    "# Create a bar chart\n",
    "bar_chart <- ggplot(data, aes(x = Category, y = Value, fill = Category)) +\n",
    "  geom_bar(stat = \"identity\") +\n",
    "  labs(title = \"Bar Chart\", x = \"Category\", y = \"Value\")\n",
    "\n",
    "# Print bar chart\n",
    "print(bar_chart)"
   ]
  }
 ],
 "metadata": {
  "kernelspec": {
   "display_name": "R",
   "language": "R",
   "name": "ir"
  },
  "language_info": {
   "name": "R"
  }
 },
 "nbformat": 4,
 "nbformat_minor": 5
}
